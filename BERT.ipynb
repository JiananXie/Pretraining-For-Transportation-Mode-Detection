{
 "cells": [
  {
   "cell_type": "code",
   "execution_count": 18,
   "metadata": {},
   "outputs": [
    {
     "name": "stdout",
     "output_type": "stream",
     "text": [
      "Moved file D:/SHL_dataset/SHLDataset_User1Hips_v2/release/User1/010317\\Hips_Motion.txt and D:/SHL_dataset/SHLDataset_User1Hips_v2/release/User1/010317\\Label.txt to E:/SHL/dataset\\010317,E:/SHL/dataset\\010317\n",
      "Moved file D:/SHL_dataset/SHLDataset_User1Hips_v2/release/User1/010617\\Hips_Motion.txt and D:/SHL_dataset/SHLDataset_User1Hips_v2/release/User1/010617\\Label.txt to E:/SHL/dataset\\010617,E:/SHL/dataset\\010617\n",
      "Moved file D:/SHL_dataset/SHLDataset_User1Hips_v2/release/User1/020317\\Hips_Motion.txt and D:/SHL_dataset/SHLDataset_User1Hips_v2/release/User1/020317\\Label.txt to E:/SHL/dataset\\020317,E:/SHL/dataset\\020317\n",
      "Moved file D:/SHL_dataset/SHLDataset_User1Hips_v2/release/User1/020517\\Hips_Motion.txt and D:/SHL_dataset/SHLDataset_User1Hips_v2/release/User1/020517\\Label.txt to E:/SHL/dataset\\020517,E:/SHL/dataset\\020517\n",
      "Moved file D:/SHL_dataset/SHLDataset_User1Hips_v2/release/User1/020617\\Hips_Motion.txt and D:/SHL_dataset/SHLDataset_User1Hips_v2/release/User1/020617\\Label.txt to E:/SHL/dataset\\020617,E:/SHL/dataset\\020617\n",
      "Moved file D:/SHL_dataset/SHLDataset_User1Hips_v2/release/User1/030317\\Hips_Motion.txt and D:/SHL_dataset/SHLDataset_User1Hips_v2/release/User1/030317\\Label.txt to E:/SHL/dataset\\030317,E:/SHL/dataset\\030317\n",
      "Moved file D:/SHL_dataset/SHLDataset_User1Hips_v2/release/User1/030517\\Hips_Motion.txt and D:/SHL_dataset/SHLDataset_User1Hips_v2/release/User1/030517\\Label.txt to E:/SHL/dataset\\030517,E:/SHL/dataset\\030517\n",
      "Moved file D:/SHL_dataset/SHLDataset_User1Hips_v2/release/User1/030617\\Hips_Motion.txt and D:/SHL_dataset/SHLDataset_User1Hips_v2/release/User1/030617\\Label.txt to E:/SHL/dataset\\030617,E:/SHL/dataset\\030617\n",
      "Moved file D:/SHL_dataset/SHLDataset_User1Hips_v2/release/User1/030717\\Hips_Motion.txt and D:/SHL_dataset/SHLDataset_User1Hips_v2/release/User1/030717\\Label.txt to E:/SHL/dataset\\030717,E:/SHL/dataset\\030717\n",
      "Moved file D:/SHL_dataset/SHLDataset_User1Hips_v2/release/User1/040517\\Hips_Motion.txt and D:/SHL_dataset/SHLDataset_User1Hips_v2/release/User1/040517\\Label.txt to E:/SHL/dataset\\040517,E:/SHL/dataset\\040517\n",
      "Moved file D:/SHL_dataset/SHLDataset_User1Hips_v2/release/User1/040717\\Hips_Motion.txt and D:/SHL_dataset/SHLDataset_User1Hips_v2/release/User1/040717\\Label.txt to E:/SHL/dataset\\040717,E:/SHL/dataset\\040717\n",
      "Moved file D:/SHL_dataset/SHLDataset_User1Hips_v2/release/User1/050517\\Hips_Motion.txt and D:/SHL_dataset/SHLDataset_User1Hips_v2/release/User1/050517\\Label.txt to E:/SHL/dataset\\050517,E:/SHL/dataset\\050517\n",
      "Moved file D:/SHL_dataset/SHLDataset_User1Hips_v2/release/User1/050617\\Hips_Motion.txt and D:/SHL_dataset/SHLDataset_User1Hips_v2/release/User1/050617\\Label.txt to E:/SHL/dataset\\050617,E:/SHL/dataset\\050617\n",
      "Moved file D:/SHL_dataset/SHLDataset_User1Hips_v2/release/User1/050717\\Hips_Motion.txt and D:/SHL_dataset/SHLDataset_User1Hips_v2/release/User1/050717\\Label.txt to E:/SHL/dataset\\050717,E:/SHL/dataset\\050717\n",
      "Moved file D:/SHL_dataset/SHLDataset_User1Hips_v2/release/User1/060317\\Hips_Motion.txt and D:/SHL_dataset/SHLDataset_User1Hips_v2/release/User1/060317\\Label.txt to E:/SHL/dataset\\060317,E:/SHL/dataset\\060317\n",
      "Moved file D:/SHL_dataset/SHLDataset_User1Hips_v2/release/User1/060617\\Hips_Motion.txt and D:/SHL_dataset/SHLDataset_User1Hips_v2/release/User1/060617\\Label.txt to E:/SHL/dataset\\060617,E:/SHL/dataset\\060617\n",
      "Moved file D:/SHL_dataset/SHLDataset_User1Hips_v2/release/User1/070317\\Hips_Motion.txt and D:/SHL_dataset/SHLDataset_User1Hips_v2/release/User1/070317\\Label.txt to E:/SHL/dataset\\070317,E:/SHL/dataset\\070317\n",
      "Moved file D:/SHL_dataset/SHLDataset_User1Hips_v2/release/User1/070617\\Hips_Motion.txt and D:/SHL_dataset/SHLDataset_User1Hips_v2/release/User1/070617\\Label.txt to E:/SHL/dataset\\070617,E:/SHL/dataset\\070617\n",
      "Moved file D:/SHL_dataset/SHLDataset_User1Hips_v2/release/User1/080317\\Hips_Motion.txt and D:/SHL_dataset/SHLDataset_User1Hips_v2/release/User1/080317\\Label.txt to E:/SHL/dataset\\080317,E:/SHL/dataset\\080317\n",
      "Moved file D:/SHL_dataset/SHLDataset_User1Hips_v2/release/User1/080517\\Hips_Motion.txt and D:/SHL_dataset/SHLDataset_User1Hips_v2/release/User1/080517\\Label.txt to E:/SHL/dataset\\080517,E:/SHL/dataset\\080517\n",
      "Moved file D:/SHL_dataset/SHLDataset_User1Hips_v2/release/User1/080617\\Hips_Motion.txt and D:/SHL_dataset/SHLDataset_User1Hips_v2/release/User1/080617\\Label.txt to E:/SHL/dataset\\080617,E:/SHL/dataset\\080617\n",
      "Moved file D:/SHL_dataset/SHLDataset_User1Hips_v2/release/User1/090317\\Hips_Motion.txt and D:/SHL_dataset/SHLDataset_User1Hips_v2/release/User1/090317\\Label.txt to E:/SHL/dataset\\090317,E:/SHL/dataset\\090317\n",
      "Moved file D:/SHL_dataset/SHLDataset_User1Hips_v2/release/User1/090517\\Hips_Motion.txt and D:/SHL_dataset/SHLDataset_User1Hips_v2/release/User1/090517\\Label.txt to E:/SHL/dataset\\090517,E:/SHL/dataset\\090517\n",
      "Moved file D:/SHL_dataset/SHLDataset_User1Hips_v2/release/User1/090617\\Hips_Motion.txt and D:/SHL_dataset/SHLDataset_User1Hips_v2/release/User1/090617\\Label.txt to E:/SHL/dataset\\090617,E:/SHL/dataset\\090617\n",
      "Moved file D:/SHL_dataset/SHLDataset_User1Hips_v2/release/User1/100317\\Hips_Motion.txt and D:/SHL_dataset/SHLDataset_User1Hips_v2/release/User1/100317\\Label.txt to E:/SHL/dataset\\100317,E:/SHL/dataset\\100317\n",
      "Moved file D:/SHL_dataset/SHLDataset_User1Hips_v2/release/User1/100517\\Hips_Motion.txt and D:/SHL_dataset/SHLDataset_User1Hips_v2/release/User1/100517\\Label.txt to E:/SHL/dataset\\100517,E:/SHL/dataset\\100517\n",
      "Moved file D:/SHL_dataset/SHLDataset_User1Hips_v2/release/User1/110517\\Hips_Motion.txt and D:/SHL_dataset/SHLDataset_User1Hips_v2/release/User1/110517\\Label.txt to E:/SHL/dataset\\110517,E:/SHL/dataset\\110517\n",
      "Moved file D:/SHL_dataset/SHLDataset_User1Hips_v2/release/User1/120517\\Hips_Motion.txt and D:/SHL_dataset/SHLDataset_User1Hips_v2/release/User1/120517\\Label.txt to E:/SHL/dataset\\120517,E:/SHL/dataset\\120517\n",
      "Moved file D:/SHL_dataset/SHLDataset_User1Hips_v2/release/User1/120617\\Hips_Motion.txt and D:/SHL_dataset/SHLDataset_User1Hips_v2/release/User1/120617\\Label.txt to E:/SHL/dataset\\120617,E:/SHL/dataset\\120617\n",
      "Moved file D:/SHL_dataset/SHLDataset_User1Hips_v2/release/User1/130317\\Hips_Motion.txt and D:/SHL_dataset/SHLDataset_User1Hips_v2/release/User1/130317\\Label.txt to E:/SHL/dataset\\130317,E:/SHL/dataset\\130317\n"
     ]
    },
    {
     "ename": "OSError",
     "evalue": "[Errno 28] No space left on device",
     "output_type": "error",
     "traceback": [
      "\u001b[1;31m---------------------------------------------------------------------------\u001b[0m",
      "\u001b[1;31mOSError\u001b[0m                                   Traceback (most recent call last)",
      "File \u001b[1;32md:\\Python\\lib\\shutil.py:815\u001b[0m, in \u001b[0;36mmove\u001b[1;34m(src, dst, copy_function)\u001b[0m\n\u001b[0;32m    814\u001b[0m \u001b[39mtry\u001b[39;00m:\n\u001b[1;32m--> 815\u001b[0m     os\u001b[39m.\u001b[39;49mrename(src, real_dst)\n\u001b[0;32m    816\u001b[0m \u001b[39mexcept\u001b[39;00m \u001b[39mOSError\u001b[39;00m:\n",
      "\u001b[1;31mOSError\u001b[0m: [WinError 17] 系统无法将文件移到不同的磁盘驱动器。: 'D:/SHL_dataset/SHLDataset_User1Hips_v2/release/User1/130617\\\\Hips_Motion.txt' -> 'E:/SHL/dataset\\\\130617\\\\Hips_Motion.txt'",
      "\nDuring handling of the above exception, another exception occurred:\n",
      "\u001b[1;31mOSError\u001b[0m                                   Traceback (most recent call last)",
      "\u001b[1;32mf:\\创新实践\\code\\BERT.ipynb 单元格 1\u001b[0m line \u001b[0;36m1\n\u001b[0;32m     <a href='vscode-notebook-cell:/f%3A/%E5%88%9B%E6%96%B0%E5%AE%9E%E8%B7%B5/code/BERT.ipynb#W0sZmlsZQ%3D%3D?line=12'>13</a>\u001b[0m target_path_label \u001b[39m=\u001b[39m os\u001b[39m.\u001b[39mpath\u001b[39m.\u001b[39mjoin(target_folder, folder)\n\u001b[0;32m     <a href='vscode-notebook-cell:/f%3A/%E5%88%9B%E6%96%B0%E5%AE%9E%E8%B7%B5/code/BERT.ipynb#W0sZmlsZQ%3D%3D?line=14'>15</a>\u001b[0m os\u001b[39m.\u001b[39mmakedirs(os\u001b[39m.\u001b[39mpath\u001b[39m.\u001b[39mjoin(target_folder, folder))\n\u001b[1;32m---> <a href='vscode-notebook-cell:/f%3A/%E5%88%9B%E6%96%B0%E5%AE%9E%E8%B7%B5/code/BERT.ipynb#W0sZmlsZQ%3D%3D?line=15'>16</a>\u001b[0m shutil\u001b[39m.\u001b[39;49mmove(source_path_motion, target_path_motion)\n\u001b[0;32m     <a href='vscode-notebook-cell:/f%3A/%E5%88%9B%E6%96%B0%E5%AE%9E%E8%B7%B5/code/BERT.ipynb#W0sZmlsZQ%3D%3D?line=16'>17</a>\u001b[0m shutil\u001b[39m.\u001b[39mmove(source_path_label, target_path_label)\n\u001b[0;32m     <a href='vscode-notebook-cell:/f%3A/%E5%88%9B%E6%96%B0%E5%AE%9E%E8%B7%B5/code/BERT.ipynb#W0sZmlsZQ%3D%3D?line=18'>19</a>\u001b[0m \u001b[39mprint\u001b[39m(\u001b[39mf\u001b[39m\u001b[39m\"\u001b[39m\u001b[39mMoved file \u001b[39m\u001b[39m{\u001b[39;00msource_path_motion\u001b[39m}\u001b[39;00m\u001b[39m and \u001b[39m\u001b[39m{\u001b[39;00msource_path_label\u001b[39m}\u001b[39;00m\u001b[39m to \u001b[39m\u001b[39m{\u001b[39;00mtarget_path_motion\u001b[39m}\u001b[39;00m\u001b[39m,\u001b[39m\u001b[39m{\u001b[39;00mtarget_path_label\u001b[39m}\u001b[39;00m\u001b[39m\"\u001b[39m)\n",
      "File \u001b[1;32md:\\Python\\lib\\shutil.py:835\u001b[0m, in \u001b[0;36mmove\u001b[1;34m(src, dst, copy_function)\u001b[0m\n\u001b[0;32m    833\u001b[0m         rmtree(src)\n\u001b[0;32m    834\u001b[0m     \u001b[39melse\u001b[39;00m:\n\u001b[1;32m--> 835\u001b[0m         copy_function(src, real_dst)\n\u001b[0;32m    836\u001b[0m         os\u001b[39m.\u001b[39munlink(src)\n\u001b[0;32m    837\u001b[0m \u001b[39mreturn\u001b[39;00m real_dst\n",
      "File \u001b[1;32md:\\Python\\lib\\shutil.py:434\u001b[0m, in \u001b[0;36mcopy2\u001b[1;34m(src, dst, follow_symlinks)\u001b[0m\n\u001b[0;32m    432\u001b[0m \u001b[39mif\u001b[39;00m os\u001b[39m.\u001b[39mpath\u001b[39m.\u001b[39misdir(dst):\n\u001b[0;32m    433\u001b[0m     dst \u001b[39m=\u001b[39m os\u001b[39m.\u001b[39mpath\u001b[39m.\u001b[39mjoin(dst, os\u001b[39m.\u001b[39mpath\u001b[39m.\u001b[39mbasename(src))\n\u001b[1;32m--> 434\u001b[0m copyfile(src, dst, follow_symlinks\u001b[39m=\u001b[39;49mfollow_symlinks)\n\u001b[0;32m    435\u001b[0m copystat(src, dst, follow_symlinks\u001b[39m=\u001b[39mfollow_symlinks)\n\u001b[0;32m    436\u001b[0m \u001b[39mreturn\u001b[39;00m dst\n",
      "File \u001b[1;32md:\\Python\\lib\\shutil.py:274\u001b[0m, in \u001b[0;36mcopyfile\u001b[1;34m(src, dst, follow_symlinks)\u001b[0m\n\u001b[0;32m    271\u001b[0m \u001b[39m# Windows, see:\u001b[39;00m\n\u001b[0;32m    272\u001b[0m \u001b[39m# https://github.com/python/cpython/pull/7160#discussion_r195405230\u001b[39;00m\n\u001b[0;32m    273\u001b[0m \u001b[39melif\u001b[39;00m _WINDOWS \u001b[39mand\u001b[39;00m file_size \u001b[39m>\u001b[39m \u001b[39m0\u001b[39m:\n\u001b[1;32m--> 274\u001b[0m     _copyfileobj_readinto(fsrc, fdst, \u001b[39mmin\u001b[39;49m(file_size, COPY_BUFSIZE))\n\u001b[0;32m    275\u001b[0m     \u001b[39mreturn\u001b[39;00m dst\n\u001b[0;32m    277\u001b[0m copyfileobj(fsrc, fdst)\n",
      "File \u001b[1;32md:\\Python\\lib\\shutil.py:185\u001b[0m, in \u001b[0;36m_copyfileobj_readinto\u001b[1;34m(fsrc, fdst, length)\u001b[0m\n\u001b[0;32m    183\u001b[0m         fdst\u001b[39m.\u001b[39mwrite(smv)\n\u001b[0;32m    184\u001b[0m \u001b[39melse\u001b[39;00m:\n\u001b[1;32m--> 185\u001b[0m     fdst_write(mv)\n",
      "\u001b[1;31mOSError\u001b[0m: [Errno 28] No space left on device"
     ]
    }
   ],
   "source": [
    "import shutil\n",
    "import os\n",
    "path = 'D:/SHL_dataset' #解压文件的文件夹目录\n",
    "target_folder = 'E:/SHL/dataset'#要提取到的文件夹目录\n",
    "list = os.listdir(path=path + '/SHLDataset_User1Hips_v2/release/User1')\n",
    "# list = [x[4:6]+x[2:4]+x[0:2] for x in list] \n",
    "for folder in list:\n",
    "    file_name_motion = 'Hips_Motion.txt'\n",
    "    file_name_label = 'Label.txt'\n",
    "    source_path_motion = os.path.join(path + '/SHLDataset_User1Hips_v2/release/User1/'+folder, file_name_motion)\n",
    "    source_path_label = os.path.join(path + '/SHLDataset_User1Hips_v2/release/User1/'+folder, file_name_label)\n",
    "    target_path_motion = os.path.join(target_folder , folder)\n",
    "    target_path_label = os.path.join(target_folder, folder)\n",
    "    \n",
    "    os.makedirs(os.path.join(target_folder, folder))\n",
    "    shutil.move(source_path_motion, target_path_motion)\n",
    "    shutil.move(source_path_label, target_path_label)\n",
    "\n",
    "    print(f\"Moved file {source_path_motion} and {source_path_label} to {target_path_motion},{target_path_label}\")"
   ]
  },
  {
   "cell_type": "code",
   "execution_count": 21,
   "metadata": {},
   "outputs": [
    {
     "data": {
      "text/plain": [
       "(31,\n",
       " ['010317',\n",
       "  '010617',\n",
       "  '020317',\n",
       "  '020517',\n",
       "  '020617',\n",
       "  '030317',\n",
       "  '030517',\n",
       "  '030617',\n",
       "  '030717',\n",
       "  '040517',\n",
       "  '040717',\n",
       "  '050517',\n",
       "  '050617',\n",
       "  '050717',\n",
       "  '060317',\n",
       "  '060617',\n",
       "  '070317',\n",
       "  '070617',\n",
       "  '080317',\n",
       "  '080517',\n",
       "  '080617',\n",
       "  '090317',\n",
       "  '090517',\n",
       "  '090617',\n",
       "  '100317',\n",
       "  '100517',\n",
       "  '110517',\n",
       "  '120517',\n",
       "  '120617',\n",
       "  '130317',\n",
       "  '130617'])"
      ]
     },
     "execution_count": 21,
     "metadata": {},
     "output_type": "execute_result"
    }
   ],
   "source": [
    "import os\n",
    "list = os.listdir('E:/SHL/dataset/')\n",
    "len(list), list"
   ]
  },
  {
   "cell_type": "code",
   "execution_count": 33,
   "metadata": {},
   "outputs": [
    {
     "name": "stdout",
     "output_type": "stream",
     "text": [
      "float64\n"
     ]
    },
    {
     "data": {
      "text/plain": [
       "0    1488376622000\n",
       "1    1488376622010\n",
       "2    1488376622020\n",
       "3    1488376622030\n",
       "4    1488376622040\n",
       "Name: 0, dtype: int64"
      ]
     },
     "execution_count": 33,
     "metadata": {},
     "output_type": "execute_result"
    }
   ],
   "source": [
    "import pandas as pd\n",
    "\n",
    "df = pd.read_csv('E:/SHL/dataset/'+list[0]+ '/Hips_Motion.txt', header=None, delimiter=' ')\n",
    "time_stamp = df.head()[0]\n",
    "print(time_stamp.dtype)\n",
    "time_stamp = time_stamp.astype('int64')\n",
    "time_stamp"
   ]
  }
 ],
 "metadata": {
  "kernelspec": {
   "display_name": "Python 3",
   "language": "python",
   "name": "python3"
  },
  "language_info": {
   "codemirror_mode": {
    "name": "ipython",
    "version": 3
   },
   "file_extension": ".py",
   "mimetype": "text/x-python",
   "name": "python",
   "nbconvert_exporter": "python",
   "pygments_lexer": "ipython3",
   "version": "3.10.6"
  },
  "orig_nbformat": 4
 },
 "nbformat": 4,
 "nbformat_minor": 2
}
